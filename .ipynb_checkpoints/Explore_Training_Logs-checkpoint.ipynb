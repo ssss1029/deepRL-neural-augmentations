{
 "cells": [
  {
   "cell_type": "code",
   "execution_count": 1,
   "metadata": {},
   "outputs": [],
   "source": [
    "import ast\n",
    "import matplotlib.pyplot as plt\n",
    "import os\n",
    "\n",
    "logs = [\n",
    "    \"logs/cartpole_swingup/no_ss/noaugs/eval.log\"\n",
    "    \"logs/cartpole_swingup/no_ss/noise2net/eval.log\"\n",
    "]"
   ]
  },
  {
   "cell_type": "code",
   "execution_count": 2,
   "metadata": {},
   "outputs": [],
   "source": [
    "\n",
    "# Plot test error vs epoch\n",
    "def plot_col(fname, metric):\n",
    "    for log in logs:\n",
    "        iters = []\n",
    "        col_values = []\n",
    "        with open(fname) as f:\n",
    "            while True:\n",
    "                line = f.readline()\n",
    "                line = ast.literal_eval(line)                \n",
    "                print(line)\n",
    "        plt.plot(epochs, col_values, label=target.split(\"/\")[-2], linewidth=2)"
   ]
  },
  {
   "cell_type": "code",
   "execution_count": null,
   "metadata": {},
   "outputs": [],
   "source": []
  }
 ],
 "metadata": {
  "kernelspec": {
   "display_name": "saurav-main-env",
   "language": "python",
   "name": "saurav-main-env"
  },
  "language_info": {
   "codemirror_mode": {
    "name": "ipython",
    "version": 3
   },
   "file_extension": ".py",
   "mimetype": "text/x-python",
   "name": "python",
   "nbconvert_exporter": "python",
   "pygments_lexer": "ipython3",
   "version": "3.7.5"
  }
 },
 "nbformat": 4,
 "nbformat_minor": 2
}
